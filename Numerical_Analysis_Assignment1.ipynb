{
 "cells": [
  {
   "cell_type": "code",
   "execution_count": 41,
   "id": "486dd8eb-46bb-432e-842b-2297d2c39196",
   "metadata": {},
   "outputs": [],
   "source": [
    "import numpy as np\n",
    "import pandas as pd"
   ]
  },
  {
   "cell_type": "markdown",
   "id": "c76d52e9-bfdb-4417-a5e3-823a068b6586",
   "metadata": {},
   "source": [
    "# Question 1"
   ]
  },
  {
   "cell_type": "code",
   "execution_count": 7,
   "id": "82afcbec-3745-46f7-8236-045ba92bed6b",
   "metadata": {},
   "outputs": [],
   "source": [
    "def wilkinson(n):\n",
    "    matrix = np.zeros((n,n))\n",
    "    for i in range(n):\n",
    "        matrix[i][i]=n-i\n",
    "    for i in range(1,n):\n",
    "        matrix[i-1][i]=n\n",
    "    return matrix"
   ]
  },
  {
   "cell_type": "code",
   "execution_count": 9,
   "id": "17ff6d58-2f42-41f1-8e86-719bb76d0d7a",
   "metadata": {},
   "outputs": [
    {
     "name": "stdout",
     "output_type": "stream",
     "text": [
      "condition number for 10:9398.655246609314\n",
      "condition number for 20:174735756.808812\n",
      "condition number for 50:1.487381460960217e+21\n",
      "condition number for 100:6.477966404042364e+42\n"
     ]
    }
   ],
   "source": [
    "n = [10,20,50,100]\n",
    "for i in n:\n",
    "    matrix = wilkinson(i)\n",
    "    print(f'condition number for {i}:{np.linalg.cond(matrix)}')"
   ]
  },
  {
   "cell_type": "markdown",
   "id": "a1ca4e92-44db-445c-96ef-3e467fa9ab71",
   "metadata": {},
   "source": [
    "# Question 2"
   ]
  },
  {
   "cell_type": "code",
   "execution_count": 15,
   "id": "0f3d5048-b4b2-462a-9c38-ba9da2e784de",
   "metadata": {},
   "outputs": [],
   "source": [
    "def pei_matrix(n,a):\n",
    "    matrix = np.full((n,n),1)\n",
    "    for i in range(n):\n",
    "        matrix[i,i]=a\n",
    "    return matrix"
   ]
  },
  {
   "cell_type": "code",
   "execution_count": 29,
   "id": "09ab99b4-e8be-4e3e-b84c-4bebc6ee81a6",
   "metadata": {},
   "outputs": [
    {
     "name": "stdout",
     "output_type": "stream",
     "text": [
      "condition number for 1.0:5.165353862250076e+111\n",
      "condition number for 1.1666666666666667:5.165353862250076e+111\n",
      "condition number for 1.3333333333333333:5.165353862250076e+111\n",
      "condition number for 1.5:5.165353862250076e+111\n",
      "condition number for 1.6666666666666665:5.165353862250076e+111\n",
      "condition number for 1.8333333333333333:5.165353862250076e+111\n",
      "condition number for 2.0:6.000000000000001\n",
      "condition number for 2.1666666666666665:6.000000000000001\n",
      "condition number for 2.333333333333333:6.000000000000001\n",
      "condition number for 2.5:6.000000000000001\n"
     ]
    }
   ],
   "source": [
    "n = 5\n",
    "alphas = np.linspace(1,2.5,10)\n",
    "for alpha in alphas:\n",
    "    A = pei_matrix(5,alpha)\n",
    "    print(f'condition number for {alpha}:{np.linalg.cond(A)}')"
   ]
  },
  {
   "cell_type": "markdown",
   "id": "8f0b26ff-9535-489f-ba1e-d98b77263637",
   "metadata": {},
   "source": [
    "# Question3"
   ]
  },
  {
   "cell_type": "code",
   "execution_count": 32,
   "id": "2e1d6dde-1ac0-4ec7-8d2f-f2984ff99088",
   "metadata": {},
   "outputs": [],
   "source": [
    "def low_matrix(n):\n",
    "    matrix = np.zeros((n,n))\n",
    "    for i in range(n):\n",
    "        matrix[i,i]=1\n",
    "        for j in range(i):\n",
    "            matrix[i,j]=-1\n",
    "    return matrix"
   ]
  },
  {
   "cell_type": "code",
   "execution_count": 47,
   "id": "f51d87d7-d064-404e-b425-4521ba35534a",
   "metadata": {},
   "outputs": [],
   "source": [
    "n = [10,50,100,1000]\n",
    "X = []\n",
    "cond = []\n",
    "X_cap = []\n",
    "val_1=[]\n",
    "val_2=[]\n",
    "for i in n:\n",
    "    x = np.array([1]*i)\n",
    "    X.append(x)\n",
    "    A = low_matrix(i)\n",
    "    cond.append(np.linalg.cond(A))\n",
    "    b = np.dot(A,x)\n",
    "    x_cap = np.dot(np.linalg.inv(A),b)\n",
    "    X_cap.append(x_cap)\n",
    "    val_1.append(np.linalg.norm(x-x_cap)/np.linalg.norm(x))\n",
    "    val_2.append(np.linalg.norm(b-np.dot(A,x_cap))/np.linalg.norm(b))\n",
    "    \n",
    "dict = {\n",
    "    'n':n,\n",
    "    'x̂':X_cap,\n",
    "    'condition_number':cond,\n",
    "    'error in x':val_1,\n",
    "    'error in b': val_2\n",
    "}\n",
    "df = pd.DataFrame(dict)\n",
    "    "
   ]
  },
  {
   "cell_type": "code",
   "execution_count": 49,
   "id": "e877bd40-dbd1-423c-9dc5-bc9075ea71c7",
   "metadata": {},
   "outputs": [
    {
     "data": {
      "text/html": [
       "<div>\n",
       "<style scoped>\n",
       "    .dataframe tbody tr th:only-of-type {\n",
       "        vertical-align: middle;\n",
       "    }\n",
       "\n",
       "    .dataframe tbody tr th {\n",
       "        vertical-align: top;\n",
       "    }\n",
       "\n",
       "    .dataframe thead th {\n",
       "        text-align: right;\n",
       "    }\n",
       "</style>\n",
       "<table border=\"1\" class=\"dataframe\">\n",
       "  <thead>\n",
       "    <tr style=\"text-align: right;\">\n",
       "      <th></th>\n",
       "      <th>n</th>\n",
       "      <th>x̂</th>\n",
       "      <th>condition_number</th>\n",
       "      <th>error in x</th>\n",
       "      <th>error in b</th>\n",
       "    </tr>\n",
       "  </thead>\n",
       "  <tbody>\n",
       "    <tr>\n",
       "      <th>0</th>\n",
       "      <td>10</td>\n",
       "      <td>[1.0, 1.0, 1.0, 1.0, 1.0, 1.0, 1.0, 1.0, 1.0, ...</td>\n",
       "      <td>1.918487e+03</td>\n",
       "      <td>0.000000</td>\n",
       "      <td>0.000000</td>\n",
       "    </tr>\n",
       "    <tr>\n",
       "      <th>1</th>\n",
       "      <td>50</td>\n",
       "      <td>[1.0, 1.0, 1.0, 1.0, 1.0, 1.0, 1.0, 1.0, 1.0, ...</td>\n",
       "      <td>1.201129e+16</td>\n",
       "      <td>0.000000</td>\n",
       "      <td>0.000000</td>\n",
       "    </tr>\n",
       "    <tr>\n",
       "      <th>2</th>\n",
       "      <td>100</td>\n",
       "      <td>[1.0, 1.0, 1.0, 1.0, 1.0, 1.0, 1.0, 1.0, 1.0, ...</td>\n",
       "      <td>9.013921e+17</td>\n",
       "      <td>6.533758</td>\n",
       "      <td>0.987397</td>\n",
       "    </tr>\n",
       "    <tr>\n",
       "      <th>3</th>\n",
       "      <td>1000</td>\n",
       "      <td>[1.0, 1.0, 1.0, 1.0, 1.0, 1.0, 1.0, 1.0, 1.0, ...</td>\n",
       "      <td>6.429042e+19</td>\n",
       "      <td>2.273543</td>\n",
       "      <td>1.013397</td>\n",
       "    </tr>\n",
       "  </tbody>\n",
       "</table>\n",
       "</div>"
      ],
      "text/plain": [
       "      n                                                 x̂  condition_number  \\\n",
       "0    10  [1.0, 1.0, 1.0, 1.0, 1.0, 1.0, 1.0, 1.0, 1.0, ...      1.918487e+03   \n",
       "1    50  [1.0, 1.0, 1.0, 1.0, 1.0, 1.0, 1.0, 1.0, 1.0, ...      1.201129e+16   \n",
       "2   100  [1.0, 1.0, 1.0, 1.0, 1.0, 1.0, 1.0, 1.0, 1.0, ...      9.013921e+17   \n",
       "3  1000  [1.0, 1.0, 1.0, 1.0, 1.0, 1.0, 1.0, 1.0, 1.0, ...      6.429042e+19   \n",
       "\n",
       "   error in x  error in b  \n",
       "0    0.000000    0.000000  \n",
       "1    0.000000    0.000000  \n",
       "2    6.533758    0.987397  \n",
       "3    2.273543    1.013397  "
      ]
     },
     "execution_count": 49,
     "metadata": {},
     "output_type": "execute_result"
    }
   ],
   "source": [
    "df"
   ]
  },
  {
   "cell_type": "markdown",
   "id": "49f2bc99-3abc-4c69-a7a6-703ee866df74",
   "metadata": {},
   "source": [
    "# Question4"
   ]
  },
  {
   "cell_type": "code",
   "execution_count": 51,
   "id": "e44eb067-a935-42dd-b232-38a337f9771b",
   "metadata": {},
   "outputs": [],
   "source": [
    "def vandermonde(v):\n",
    "    return np.vander(v,increasing = True)\n"
   ]
  },
  {
   "cell_type": "code",
   "execution_count": 75,
   "id": "be76e2a8-462e-41d7-b8f0-1b86147f17ed",
   "metadata": {},
   "outputs": [
    {
     "name": "stdout",
     "output_type": "stream",
     "text": [
      "y-x: [[ 7.26584586e-06 -8.35961808e-06  2.61570676e-07  2.90267963e-06\n",
      "  -1.82117219e-07  2.12849409e-06 -1.17432210e-05 -1.42062781e-05\n",
      "   4.22839075e-05  4.66110650e-05 -8.44313763e-05 -8.79568979e-05\n",
      "   9.70303081e-05  9.81581397e-05 -6.22654334e-05 -6.27725385e-05\n",
      "   1.98468333e-05  2.05978286e-05 -2.20535730e-06 -2.51804886e-06]]\n",
      "norm(y-x): 0.00021678952170496745\n"
     ]
    }
   ],
   "source": [
    "v = np.random.randn(20)\n",
    "x = np.full((20,1),1)\n",
    "A = vandermonde(v)\n",
    "b = np.dot(A,x)\n",
    "\n",
    "y = np.dot(np.linalg.inv(A),b)\n",
    "print('y-x:',(y-x).T)\n",
    "print('norm(y-x):',np.linalg.norm(y-x))"
   ]
  },
  {
   "cell_type": "markdown",
   "id": "ebdac196-4191-4342-9b7f-6efb6e14d29d",
   "metadata": {},
   "source": [
    "* The computed norm norm(y - x) is approximately 0.00021679. This small value suggests that the difference between y and x is negligible, indicating that y is a good approximation of x.\n",
    "* The values of y are very close to those of x, indicating that the reconstruction process was successful despite minor numerical discrepancies. This suggests a reliable method for solving the linear system defined by the Vandermonde matrix."
   ]
  }
 ],
 "metadata": {
  "kernelspec": {
   "display_name": "Python 3 (ipykernel)",
   "language": "python",
   "name": "python3"
  },
  "language_info": {
   "codemirror_mode": {
    "name": "ipython",
    "version": 3
   },
   "file_extension": ".py",
   "mimetype": "text/x-python",
   "name": "python",
   "nbconvert_exporter": "python",
   "pygments_lexer": "ipython3",
   "version": "3.12.4"
  }
 },
 "nbformat": 4,
 "nbformat_minor": 5
}
